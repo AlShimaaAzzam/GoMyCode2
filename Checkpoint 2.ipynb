{
 "cells": [
  {
   "cell_type": "markdown",
   "id": "0a6fd93c",
   "metadata": {},
   "source": [
    "# Question One \n",
    "Write a program that will find all numbers which are divisible by 7 but are not a multiple of 5, between 2000 and 3200 (both included). The numbers obtained should be printed in a list.\n"
   ]
  },
  {
   "cell_type": "code",
   "execution_count": 1,
   "id": "4ae530e6",
   "metadata": {},
   "outputs": [
    {
     "name": "stdout",
     "output_type": "stream",
     "text": [
      "[2002, 2009, 2016, 2023, 2037, 2044, 2051, 2058, 2072, 2079, 2086, 2093, 2107, 2114, 2121, 2128, 2142, 2149, 2156, 2163, 2177, 2184, 2191, 2198, 2212, 2219, 2226, 2233, 2247, 2254, 2261, 2268, 2282, 2289, 2296, 2303, 2317, 2324, 2331, 2338, 2352, 2359, 2366, 2373, 2387, 2394, 2401, 2408, 2422, 2429, 2436, 2443, 2457, 2464, 2471, 2478, 2492, 2499, 2506, 2513, 2527, 2534, 2541, 2548, 2562, 2569, 2576, 2583, 2597, 2604, 2611, 2618, 2632, 2639, 2646, 2653, 2667, 2674, 2681, 2688, 2702, 2709, 2716, 2723, 2737, 2744, 2751, 2758, 2772, 2779, 2786, 2793, 2807, 2814, 2821, 2828, 2842, 2849, 2856, 2863, 2877, 2884, 2891, 2898, 2912, 2919, 2926, 2933, 2947, 2954, 2961, 2968, 2982, 2989, 2996, 3003, 3017, 3024, 3031, 3038, 3052, 3059, 3066, 3073, 3087, 3094, 3101, 3108, 3122, 3129, 3136, 3143, 3157, 3164, 3171, 3178, 3192, 3199]\n"
     ]
    }
   ],
   "source": [
    "Result = []\n",
    "for i in range(2000,3201):\n",
    "    if (i%7==0 and i%5!=0):\n",
    "        Result.append(i)\n",
    "print(Result)  "
   ]
  },
  {
   "cell_type": "markdown",
   "id": "ba36c017",
   "metadata": {},
   "source": [
    "# Question Two\n",
    " Write a program that can compute the factorial of a given number."
   ]
  },
  {
   "cell_type": "code",
   "execution_count": 16,
   "id": "6a2a6b9f",
   "metadata": {},
   "outputs": [
    {
     "name": "stdout",
     "output_type": "stream",
     "text": [
      "Enter a number : 5\n",
      "Fractional is : 120\n"
     ]
    }
   ],
   "source": [
    "# Take an Input \n",
    "Input_Number = input(\"Enter a number : \")\n",
    "# Calculate Factional\n",
    "i = int(Input_Number)\n",
    "Result = 1\n",
    "while (i>0) :\n",
    "    Result = Result*i\n",
    "    i=i-1\n",
    "\n",
    "print(\"Fractional is : \"+str(Result))"
   ]
  },
  {
   "cell_type": "markdown",
   "id": "1e713002",
   "metadata": {},
   "source": [
    "# Question Three\n",
    "With a given integer number n, write a program to generate a dictionary that contains (i, i*i) such that is an integral number between 1 and n (both included)."
   ]
  },
  {
   "cell_type": "code",
   "execution_count": 12,
   "id": "cc104150",
   "metadata": {},
   "outputs": [
    {
     "name": "stdout",
     "output_type": "stream",
     "text": [
      "Enter a number : 9\n",
      "Output Dictionary is : \n",
      "{1: 1, 2: 4, 3: 9, 4: 16, 5: 25, 6: 36, 7: 49, 8: 64, 9: 81}\n"
     ]
    }
   ],
   "source": [
    "Input_Number = input(\"Enter a number : \")\n",
    "Resulted_Dictionary = {}\n",
    "for i in range(1,int(Input_Number)+1):\n",
    "    Resulted_Dictionary[i]=i*i\n",
    "print (\"Output Dictionary is : \")    \n",
    "print(Resulted_Dictionary)  "
   ]
  },
  {
   "cell_type": "markdown",
   "id": "f2f212b8",
   "metadata": {},
   "source": [
    "# Question Four\n",
    "Given a non-empty string and an int n, return a new string where the char at index n has been removed."
   ]
  },
  {
   "cell_type": "code",
   "execution_count": 11,
   "id": "3c046f7b",
   "metadata": {},
   "outputs": [
    {
     "name": "stdout",
     "output_type": "stream",
     "text": [
      "Enter a string : Umbrella\n",
      "Enter a number : 3\n",
      "Output Word is : Umbella\n"
     ]
    }
   ],
   "source": [
    "Input_String = input(\"Enter a string : \")\n",
    "n = int(input(\"Enter a number : \"))\n",
    "Output_String = \"\"\n",
    "Output_String = \"\"\n",
    "for i in range(0,len(Input_String)):\n",
    "    if(i != n):\n",
    "        Output_String=Output_String + Input_String[i]\n",
    "print (\"Output Word is : \"+Output_String)        "
   ]
  },
  {
   "cell_type": "markdown",
   "id": "3fabe792",
   "metadata": {},
   "source": [
    "# Question Five\n",
    "Write a NumPy program to convert a NumPy array into a Python list structure."
   ]
  },
  {
   "cell_type": "code",
   "execution_count": 20,
   "id": "cfc8b86f",
   "metadata": {},
   "outputs": [
    {
     "name": "stdout",
     "output_type": "stream",
     "text": [
      "Original Array\n",
      "[[0 1]\n",
      " [2 3]\n",
      " [4 5]]\n",
      "Output List\n",
      "[[0 1]\n",
      " [2 3]\n",
      " [4 5]]\n"
     ]
    }
   ],
   "source": [
    "import numpy as np\n",
    "Array = np.array([[0,1],[2,3],[4,5]])\n",
    "LIST=np.zeros(shape=(Array.shape[0],Array.shape[1]),dtype=int)\n",
    "print (\"Original Array\")\n",
    "print(Array)\n",
    "for i in range(0,len(Array)):\n",
    "    for j in range(0,len(Array[i])):\n",
    "      LIST[i,j] = Array[i,j]\n",
    "print (\"Output List\")\n",
    "print(LIST)    "
   ]
  },
  {
   "cell_type": "markdown",
   "id": "fe758d66",
   "metadata": {},
   "source": [
    "# Question Six \n",
    "Write a NumPy program to compute the covariance matrix of two given arrays. \n"
   ]
  },
  {
   "cell_type": "code",
   "execution_count": 2,
   "id": "e0ea79aa",
   "metadata": {},
   "outputs": [
    {
     "name": "stdout",
     "output_type": "stream",
     "text": [
      "Covariance Matrix : \n",
      "[[ 1. -1.]\n",
      " [-1.  1.]]\n"
     ]
    }
   ],
   "source": [
    "import numpy as np\n",
    "Variable_1= np.array([0,1,2])\n",
    "Variable_2= np.array([2,1,0])\n",
    "#Calculate covariance \n",
    "Result=np.cov(Variable_1,Variable_2)\n",
    "# print Result\n",
    "print (\"Covariance Matrix : \")\n",
    "print (Result)"
   ]
  },
  {
   "cell_type": "markdown",
   "id": "dddad879",
   "metadata": {},
   "source": [
    "# Question Seven\n",
    "Write a program that calculates and prints the value according to the given formula: Q = Square root of [(2 * C * D)/H] \n",
    "\n"
   ]
  },
  {
   "cell_type": "code",
   "execution_count": 4,
   "id": "3b9f6854",
   "metadata": {},
   "outputs": [
    {
     "name": "stdout",
     "output_type": "stream",
     "text": [
      "Enter Comma Separated input  100,150,180\n",
      "The result is : \n",
      "[18. 22. 24.]\n"
     ]
    }
   ],
   "source": [
    "import numpy as np\n",
    "C=50\n",
    "H=30\n",
    "# Take an input from the user \n",
    "D= input(\"Enter Comma Separated input  \")\n",
    "D=D.split(\",\")\n",
    "Q=np.zeros(len(D))\n",
    "for i in range(0,len(D)):\n",
    "    Q[i]=int(np.floor(np.sqrt(2*C*int(D[i])/H)))\n",
    "print(\"The result is : \")\n",
    "print (Q)    "
   ]
  }
 ],
 "metadata": {
  "kernelspec": {
   "display_name": "Python 3",
   "language": "python",
   "name": "python3"
  },
  "language_info": {
   "codemirror_mode": {
    "name": "ipython",
    "version": 3
   },
   "file_extension": ".py",
   "mimetype": "text/x-python",
   "name": "python",
   "nbconvert_exporter": "python",
   "pygments_lexer": "ipython3",
   "version": "3.8.8"
  }
 },
 "nbformat": 4,
 "nbformat_minor": 5
}
